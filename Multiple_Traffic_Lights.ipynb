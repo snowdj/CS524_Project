{
 "cells": [
  {
   "cell_type": "markdown",
   "metadata": {},
   "source": [
    "fuel model - penalizes for too low and to high velocities due to air resistance\n",
    "\n",
    "fuel obj-  fuel-velocity , change in velocity, fuel consumed while stopping until you reach destination\n",
    "\n",
    "multiple traffic lights\n",
    "\n",
    "traffic - \n",
    "show - draw a diagram of the position and time of the vehicle, and the time bars for the red lights \n",
    "\n",
    "analysis - savings in fuel\n",
    "\n",
    "---------------------------------------------------\n",
    "limit for the acceleration max and min for stopping also \n",
    "minimizing fuel consumption only right now \n",
    "minimize jerk \n",
    "acceleration, derivative of acceleration \n",
    "\n",
    "quadratic speed decrease \n",
    "\n",
    "not consuming fuel when you hit breaks\n",
    "current velocity plus current acceleration \n",
    "\n",
    "higher gears are more efficient 60miles per hour\n",
    "discrete problem, for different gears different fuel efficiency \n",
    "\n",
    "is it different for truck or a car ? \n",
    "\n",
    "keep model simplified and add traffic lights \n"
   ]
  },
  {
   "cell_type": "code",
   "execution_count": 15,
   "metadata": {
    "collapsed": false
   },
   "outputs": [],
   "source": [
    "start_x = 0\n",
    "destination = 800     # meters\n",
    "idle_fuel = 0.1/3600  # gallon per second\n",
    "min_v = 6             # m/s\n",
    "max_v = 19\n",
    "\n",
    "min_a = -5\n",
    "max_a = 5\n",
    "\n",
    "n_lights = 3\n",
    "traf_pos = [300, 500, 800]  # meters\n",
    "\n",
    "T = 180               # seconds; upper bound \n",
    "t = [1:T;]\n",
    "\n",
    "t_green_duration = [10, 10, 10]\n",
    "t_red_duration = [24, 24, 24]\n",
    "\n",
    "t_g = Array{Int64, 2}(n_lights, T)\n",
    "t_r = Array{Int64, 2}(n_lights, T)\n",
    "\n",
    "# generating arrays for traffic light phases, assumption starts with red light \n",
    "for k = 1:size(t_g, 1)\n",
    "    if k%2 == 0\n",
    "        for i=1:T\n",
    "            j = i%(t_red_duration[k] + t_green_duration[k])\n",
    "            if j<=(t_red_duration[k]-1)\n",
    "                t_g[k, i] = t_red_duration[k] - j + 1\n",
    "                t_r[k, i] = 0\n",
    "            else\n",
    "                t_g[k, i] = 0\n",
    "                t_r[k, i] = t_green_duration[k] - j + t_red_duration[k]\n",
    "            end\n",
    "        end\n",
    "    else \n",
    "        for i=1:T\n",
    "            j = i%(t_red_duration[k] + t_green_duration[k])\n",
    "            if j>(t_red_duration[k]-1)\n",
    "                t_g[k, i] = t_red_duration[k] - j + 1\n",
    "                t_r[k, i] = 0\n",
    "            else\n",
    "                t_g[k, i] = 0\n",
    "                t_r[k, i] = t_green_duration[k] - j + t_red_duration[k]\n",
    "            end\n",
    "        end\n",
    "    end\n",
    "end"
   ]
  },
  {
   "cell_type": "code",
   "execution_count": 16,
   "metadata": {
    "collapsed": false
   },
   "outputs": [
    {
     "name": "stdout",
     "output_type": "stream",
     "text": [
      "13.330549253731341\n",
      "40.96591668523055\n",
      "z11:[1.0,1.0,1.0,1.0,1.0,1.0,1.0,1.0,1.0,1.0,1.0,1.0,1.0,1.0,1.0,1.0,1.0,1.0,1.0,1.0,1.0,1.0,1.0,1.0,1.0,1.0,1.0,1.0,1.0,1.0,1.0,1.0,1.0,1.0,1.0,1.0,1.0,1.0,1.0,1.0,1.0,1.0,1.0,1.0,1.0,1.0,1.0,1.0,1.0,1.0,1.0,1.0,1.0,1.0,1.0,1.0,1.0,1.0,1.0,1.0,1.0,1.0,1.0,1.0,1.0,1.0,1.0,1.0,1.0,1.0,1.0,1.0,1.0,1.0,1.0,1.0,1.0,1.0,1.0,1.0,1.0,1.0,1.0,1.0,1.0,1.0,1.0,1.0,1.0,1.0,1.0,1.0,1.0,1.0,1.0,1.0,1.0,1.0,1.0,1.0,1.0,1.0,1.0,1.0,1.0,1.0,1.0,1.0,1.0,1.0,1.0,1.0,1.0,1.0,1.0,1.0,1.0,1.0,1.0,1.0,1.0,1.0,1.0,1.0,1.0,1.0,1.0,1.0,1.0,1.0,1.0,1.0,1.0,1.0,1.0,1.0,1.0,1.0,1.0,1.0,1.0,1.0,1.0,1.0,1.0,1.0,1.0,1.0,1.0,1.0,1.0,1.0,1.0,1.0,1.0,1.0,1.0,1.0,1.0,1.0,1.0,1.0,1.0,1.0,1.0,1.0,1.0,1.0,1.0,1.0,1.0,1.0,1.0,1.0,1.0,1.0,1.0,1.0,1.0,1.0]\n",
      "\n",
      "[0 0 0 0 0 0 0 0 0 0 0 0 0 0 0 0 0 0 0 0 0 0 0 1 0 -1 -2 -3 -4 -5 -6 -7 -8 0 0 0 0 0 0 0 0 0 0 0 0 0 0 0 0 0 0 0 0 0 0 0 0 1 0 -1 -2 -3 -4 -5 -6 -7 -8 0 0 0 0 0 0 0 0 0 0 0 0 0 0 0 0 0 0 0 0 0 0 0 0 1 0 -1 -2 -3 -4 -5 -6 -7 -8 0 0 0 0 0 0 0 0 0 0 0 0 0 0 0 0 0 0 0 0 0 0 0 0 1 0 -1 -2 -3 -4 -5 -6 -7 -8 0 0 0 0 0 0 0 0 0 0 0 0 0 0 0 0 0 0 0 0 0 0 0 0 1 0 -1 -2 -3 -4 -5 -6 -7 -8 0 0 0 0 0 0 0 0 0 0 0; 24 23 22 21 20 19 18 17 16 15 14 13 12 11 10 9 8 7 6 5 4 3 2 0 0 0 0 0 0 0 0 0 0 25 24 23 22 21 20 19 18 17 16 15 14 13 12 11 10 9 8 7 6 5 4 3 2 0 0 0 0 0 0 0 0 0 0 25 24 23 22 21 20 19 18 17 16 15 14 13 12 11 10 9 8 7 6 5 4 3 2 0 0 0 0 0 0 0 0 0 0 25 24 23 22 21 20 19 18 17 16 15 14 13 12 11 10 9 8 7 6 5 4 3 2 0 0 0 0 0 0 0 0 0 0 25 24 23 22 21 20 19 18 17 16 15 14 13 12 11 10 9 8 7 6 5 4 3 2 0 0 0 0 0 0 0 0 0 0 25 24 23 22 21 20 19 18 17 16 15; 0 0 0 0 0 0 0 0 0 0 0 0 0 0 0 0 0 0 0 0 0 0 0 1 0 -1 -2 -3 -4 -5 -6 -7 -8 0 0 0 0 0 0 0 0 0 0 0 0 0 0 0 0 0 0 0 0 0 0 0 0 1 0 -1 -2 -3 -4 -5 -6 -7 -8 0 0 0 0 0 0 0 0 0 0 0 0 0 0 0 0 0 0 0 0 0 0 0 0 1 0 -1 -2 -3 -4 -5 -6 -7 -8 0 0 0 0 0 0 0 0 0 0 0 0 0 0 0 0 0 0 0 0 0 0 0 0 1 0 -1 -2 -3 -4 -5 -6 -7 -8 0 0 0 0 0 0 0 0 0 0 0 0 0 0 0 0 0 0 0 0 0 0 0 0 1 0 -1 -2 -3 -4 -5 -6 -7 -8 0 0 0 0 0 0 0 0 0 0 0]\n",
      "\n",
      "[-0.0,2.49254,7.47761,12.4627,17.4478,22.4328,27.4179,32.403,37.3881,42.3731,47.3582,52.3433,57.3284,62.3134,67.2985,72.2836,77.2687,82.2537,87.2388,92.2239,97.209,102.194,107.179,112.164,117.149,122.134,127.119,132.104,137.09,142.075,147.06,152.045,157.03,162.015,167.0,171.985,176.97,181.955,186.94,191.925,196.91,201.896,206.881,211.866,216.851,221.836,226.821,231.806,236.791,241.776,246.761,251.746,256.731,261.716,266.701,271.687,276.672,281.657,286.642,291.627,296.612,301.597,306.582,311.567,316.552,321.537,326.522,331.507,336.493,341.478,346.463,351.448,356.433,361.418,366.403,371.388,376.373,381.358,386.343,391.328,396.313,401.299,406.284,411.269,416.254,421.239,426.224,431.209,436.194,441.179,446.164,451.149,456.134,461.119,466.104,471.09,476.075,481.06,486.045,491.03,496.015,501.0,505.418,509.269,513.119,516.97,520.821,524.672,528.522,532.373,536.224,540.075,543.925,547.776,551.627,555.478,559.328,563.179,567.03,570.881,574.731,578.582,582.433,586.284,590.134,593.985,597.836,601.687,605.537,609.388,613.239,617.09,620.94,624.791,628.642,632.493,636.343,640.194,644.045,647.896,651.746,655.597,659.448,663.299,667.149,671.0,674.851,678.701,682.552,686.403,690.254,694.104,697.955,701.806,705.657,709.507,713.358,717.209,721.06,724.91,728.761,732.612,736.463,740.313,744.164,748.015,751.866,755.716,759.567,763.418,767.269,771.119,774.97,778.821,782.672,786.522,790.373,794.224,798.075,800.0]\n",
      "\n",
      "z10=0.0\n",
      "\n",
      "[-0.0,4.98507,4.98507,4.98507,4.98507,4.98507,4.98507,4.98507,4.98507,4.98507,4.98507,4.98507,4.98507,4.98507,4.98507,4.98507,4.98507,4.98507,4.98507,4.98507,4.98507,4.98507,4.98507,4.98507,4.98507,4.98507,4.98507,4.98507,4.98507,4.98507,4.98507,4.98507,4.98507,4.98507,4.98507,4.98507,4.98507,4.98507,4.98507,4.98507,4.98507,4.98507,4.98507,4.98507,4.98507,4.98507,4.98507,4.98507,4.98507,4.98507,4.98507,4.98507,4.98507,4.98507,4.98507,4.98507,4.98507,4.98507,4.98507,4.98507,4.98507,4.98507,4.98507,4.98507,4.98507,4.98507,4.98507,4.98507,4.98507,4.98507,4.98507,4.98507,4.98507,4.98507,4.98507,4.98507,4.98507,4.98507,4.98507,4.98507,4.98507,4.98507,4.98507,4.98507,4.98507,4.98507,4.98507,4.98507,4.98507,4.98507,4.98507,4.98507,4.98507,4.98507,4.98507,4.98507,4.98507,4.98507,4.98507,4.98507,4.98507,4.98507,3.85075,3.85075,3.85075,3.85075,3.85075,3.85075,3.85075,3.85075,3.85075,3.85075,3.85075,3.85075,3.85075,3.85075,3.85075,3.85075,3.85075,3.85075,3.85075,3.85075,3.85075,3.85075,3.85075,3.85075,3.85075,3.85075,3.85075,3.85075,3.85075,3.85075,3.85075,3.85075,3.85075,3.85075,3.85075,3.85075,3.85075,3.85075,3.85075,3.85075,3.85075,3.85075,3.85075,3.85075,3.85075,3.85075,3.85075,3.85075,3.85075,3.85075,3.85075,3.85075,3.85075,3.85075,3.85075,3.85075,3.85075,3.85075,3.85075,3.85075,3.85075,3.85075,3.85075,3.85075,3.85075,3.85075,3.85075,3.85075,3.85075,3.85075,3.85075,3.85075,3.85075,3.85075,3.85075,3.85075,3.85075,-0.0]\n",
      "\n",
      "[0.0 0.0 0.0 0.0 0.0 0.0 0.0 0.0 0.0 0.0 0.0 0.0 0.0 0.0 0.0 0.0 0.0 0.0 0.0 0.0 -0.0 -0.0 -0.0 -0.0 -0.0 -0.0 -0.0 -0.0 -0.0 -0.0 -0.0 -0.0 -0.0 -0.0 -0.0 -0.0 -0.0 -0.0 -0.0 -0.0 -0.0 -0.0 -0.0 -0.0 -0.0 -0.0 -0.0 -0.0 -0.0 -0.0 -0.0 -0.0 -0.0 -0.0 -0.0 -0.0 -0.0 -0.0 -0.0 -0.0 -0.0 0.0 -0.0 -0.0 -0.0 -0.0 0.0 0.0 -0.0 -0.0 0.0 0.0 0.0 -0.0 -0.0 0.0 0.0 0.0 0.0 0.0 0.0 -0.0 -0.0 -0.0 -0.0 0.0 0.0 -0.0 -0.0 -0.0 0.0 -0.0 0.0 -0.0 -0.0 -0.0 0.0 0.0 0.0 -0.0 -0.0 -0.0 -0.0 -0.0 -0.0 -0.0 -0.0 -0.0 -0.0 -0.0 -0.0 -0.0 -0.0 0.0 -0.0 0.0 -0.0 0.0 -0.0 -0.0 -0.0 -0.0 0.0 -0.0 -0.0 -0.0 -0.0 -0.0 -0.0 -0.0 -0.0 -0.0 -0.0 -0.0 -0.0 -0.0 -0.0 -0.0 -0.0 -0.0 -0.0 -0.0 -0.0 -0.0 -0.0 -0.0 -0.0 -0.0 -0.0 0.0 0.0 0.0 0.0 0.0 0.0 0.0 0.0 0.0 0.0 0.0 0.0 0.0 0.0 0.0 0.0 0.0 0.0 0.0 0.0 0.0 0.0 0.0 0.0 0.0 0.0 0.0 0.0 0.0 0.0 0.0; 0.0 0.0 0.0 0.0 0.0 0.0 0.0 0.0 0.0 0.0 0.0 0.0 0.0 0.0 0.0 0.0 0.0 0.0 0.0 0.0 0.0 0.0 0.0 0.0 0.0 0.0 0.0 0.0 0.0 0.0 0.0 -0.0 -0.0 -0.0 -0.0 -0.0 -0.0 -0.0 -0.0 -0.0 -0.0 -0.0 -0.0 -0.0 -0.0 -0.0 -0.0 -0.0 -0.0 -0.0 -0.0 -0.0 -0.0 -0.0 -0.0 -0.0 -0.0 -0.0 -0.0 -0.0 -0.0 -0.0 -0.0 -0.0 -0.0 -0.0 -0.0 -0.0 -0.0 -0.0 -0.0 -0.0 -0.0 -0.0 -0.0 -0.0 -0.0 -0.0 -0.0 -0.0 -0.0 -0.0 -0.0 -0.0 -0.0 -0.0 -0.0 -0.0 -0.0 -0.0 -0.0 -0.0 -0.0 -0.0 -0.0 -0.0 -0.0 -0.0 -0.0 -0.0 -0.0 -0.0 -0.0 -0.0 -0.0 -0.0 -0.0 -0.0 -0.0 -0.0 -0.0 -0.0 -0.0 -0.0 -0.0 -0.0 -0.0 -0.0 -0.0 -0.0 -0.0 -0.0 -0.0 -0.0 -0.0 -0.0 0.0 -0.0 -0.0 -0.0 -0.0 -0.0 -0.0 -0.0 -0.0 0.0 0.0 0.0 0.0 0.0 0.0 0.0 0.0 0.0 0.0 0.0 0.0 0.0 0.0 0.0 0.0 0.0 0.0 0.0 0.0 0.0 0.0 0.0 0.0 0.0 0.0 0.0 0.0 0.0 0.0 0.0 0.0 0.0 0.0 0.0 0.0 0.0 0.0 0.0 0.0 0.0 0.0 0.0 0.0 0.0; 0.0 0.0 0.0 0.0 0.0 0.0 0.0 0.0 0.0 0.0 0.0 0.0 0.0 0.0 0.0 0.0 0.0 0.0 0.0 0.0 0.0 0.0 0.0 0.0 0.0 0.0 0.0 0.0 0.0 0.0 0.0 0.0 0.0 0.0 0.0 0.0 0.0 0.0 0.0 0.0 0.0 0.0 0.0 0.0 0.0 0.0 0.0 0.0 0.0 0.0 0.0 0.0 0.0 0.0 0.0 0.0 0.0 -0.0 0.0 0.0 0.0 0.0 0.0 0.0 0.0 0.0 0.0 0.0 0.0 0.0 0.0 0.0 0.0 0.0 0.0 0.0 0.0 0.0 0.0 0.0 0.0 0.0 0.0 0.0 0.0 0.0 0.0 0.0 0.0 0.0 0.0 -0.0 0.0 0.0 0.0 0.0 0.0 0.0 0.0 0.0 0.0 0.0 0.0 0.0 0.0 0.0 0.0 0.0 0.0 0.0 0.0 0.0 0.0 0.0 0.0 0.0 0.0 0.0 0.0 0.0 0.0 0.0 0.0 0.0 0.0 -0.0 0.0 0.0 0.0 0.0 0.0 0.0 0.0 0.0 0.0 0.0 0.0 0.0 0.0 0.0 0.0 0.0 0.0 0.0 0.0 0.0 0.0 0.0 0.0 0.0 0.0 0.0 0.0 0.0 0.0 0.0 0.0 0.0 0.0 -0.0 0.0 0.0 0.0 0.0 0.0 0.0 0.0 0.0 0.0 0.0 0.0 0.0 0.0 0.0 0.0 0.0 0.0 0.0 0.0 1.0]\n"
     ]
    }
   ],
   "source": [
    "using JuMP, Gurobi\n",
    "\n",
    "m = Model(solver=GurobiSolver(OutputFlag = 0))\n",
    "@variable(m, x[1:T] >=0 )               # position at time t\n",
    "@variable(m, 0 <= v[1:T] <= max_v)      # velocity at time t\n",
    "@variable(m, min_a <= a[1:T-1] <= max_a)       # acceleration at time t \n",
    "@variable(m, obj_t[1:T])                # epigraph variable for fuel piecewise linear function \n",
    "@variable(m, w[1:T-1])\n",
    "@variable(m, z_1[1:n_lights, 1:T], Bin)   # iff z1=1 then x[i] >= 965\n",
    "@variable(m, z_2[1:n_lights, 1:T], Bin)   # iff z2=1 then x[i] <= 965\n",
    "@variable(m, z_3[1:n_lights, 1:T], Bin)   # if z1=1 and z2=1 then z3 = 1; i.e. x[i] == 965\n",
    "@variable(m, z_7[1:n_lights, 1:T], Bin)   # if x[i]>=946 then z7=1\n",
    "@variable(m, z_8[1:n_lights, 1:T], Bin)   # if x[i]<=965 then z8=1\n",
    "@variable(m, z_9[1:n_lights, 1:T], Bin)   # if z7=1 and z8=1 then z9=1\n",
    "@variable(m, z_10[1:T], Bin)              # if v[i]<=0 then z_10 = 1\n",
    "\n",
    "@variable(m, z_11[1:T], Bin)              # if x[i]<=destination then z_11 = 1\n",
    "\n",
    "@constraint(m, dynamics[i in 1:T-1], x[i+1] == x[i] + a[i]/2 + v[i]) # per second, x = at^2*0.5 + vt\n",
    "@constraint(m, velocity_change[i in 1:T-1], v[i+1] == v[i] + a[i])   # per second, v = v_initial + at \n",
    "@constraint(m, x[T] == destination)     # we need to reach destination \n",
    "@constraint(m, x[1] == start_x)\n",
    "@constraint(m, v[1] == 0)\n",
    "@constraint(m, v[T] == 0) \n",
    "\n",
    "# piecewise linear function for fuel \n",
    "@constraint(m, fuel_lin1[i in 1:T], obj_t[i] >= 0.00062*(-13/2*v[i]+59))\n",
    "@constraint(m, fuel_lin2[i in 1:T], obj_t[i] >= 0.00062*7)\n",
    "@constraint(m, fuel_lin3[i in 1:T], obj_t[i] >= 0.00062*(3/4*v[i]-17/4))\n",
    "\n",
    "for i=1:T-1\n",
    "    @constraint(m, w[i] >= a[i])\n",
    "    @constraint(m, -w[i] <= a[i])\n",
    "end\n",
    "\n",
    "# Constraints for near the traffic light\n",
    "for k = 1:n_lights\n",
    "    for i=1:T\n",
    "        @constraint(m, x[i] - (traf_pos[k]-max_v) <= traf_pos[k]*2*z_7[k, i] - 0.1*(1-z_7[k, i]))\n",
    "        @constraint(m, x[i] - (traf_pos[k]-max_v) >= -(traf_pos[k]-max_v)*(1-z_7[k, i]))\n",
    "        @constraint(m, x[i] - (traf_pos[k]) >= -(traf_pos[k])*z_8[k, i] + 0.1(1-z_8[k, i]))\n",
    "        @constraint(m, x[i] - (traf_pos[k]) <= traf_pos[k]*2*(1-z_8[k, i]))\n",
    "        @constraint(m, z_7[k, i] + z_8[k, i] - 2 <= 2*z_9[k, i] - (1-z_9[k, i]))\n",
    "        @constraint(m, z_7[k, i] + z_8[k, i] - 2 >= -2*(1-z_9[k, i]))\n",
    "\n",
    "        @constraint(m, x[i]- traf_pos[k] <= traf_pos[k]*2*z_1[k, i] - (1-z_1[k, i]))  # constraints for checking if x[i]==end_x\n",
    "        @constraint(m, x[i] - traf_pos[k] >= -traf_pos[k]*(1-z_1[k, i]))\n",
    "        @constraint(m, x[i]- traf_pos[k] >= -traf_pos[k]*z_2[k, i] + (1-z_2[k, i]))\n",
    "        @constraint(m, x[i]- traf_pos[k] <= traf_pos[k]*2*(1-z_2[k, i])) \n",
    "        @constraint(m, z_1[k, i] + z_2[k, i] - 2 <= 2*z_3[k, i] - (1-z_3[k, i]))\n",
    "        @constraint(m, z_1[k, i] + z_2[k, i] - 2 >= -2*(1-z_3[k, i]))\n",
    "\n",
    "        for j=i:i+t_g[k, i]\n",
    "\n",
    "            if j<=T\n",
    "                @constraint(m, x[j]-(traf_pos[k]) <= 2*(traf_pos[k])*(1-z_9[k, i])) # if z9=1 then x[i+1] ... x[i+t_g[i]<=end_x\n",
    "                @constraint(m, v[j] <= max_v*(1-z_3[k, i]))                # if z3=1 then v[j] = 0, last speed =0 when stops\n",
    "            end\n",
    "        end\n",
    "\n",
    "        if k==1 && i>=2 && i <= T-1\n",
    "            @constraint(m, v[i] >= -0.1*z_10[i]+(1-z_10[i]))\n",
    "            @constraint(m, v[i] <= max_v*(1-z_10[i]))\n",
    "        end\n",
    "    end\n",
    "end\n",
    "\n",
    "for i=1:T\n",
    "    @constraint(m, x[i] - (destination) >= -(destination)*z_11[i] + 0.1(1-z_11[i]))\n",
    "    @constraint(m, x[i] - (destination) <= destination*2*(1-z_11[i]))\n",
    "end\n",
    "\n",
    "@expression(m, y1[i in 1:T], obj_t[i])\n",
    "@expression(m, S1, sum(y1))\n",
    "for i in 1:T\n",
    "  @constraint(m, y1[i] <= 200*z_11[i])\n",
    "end\n",
    "\n",
    "@expression(m, y2[i in 1:T-1], w[i])\n",
    "@expression(m, S2, sum(y2))\n",
    "for i in 1:T-1\n",
    "  @constraint(m, y2[i] <= max_a*z_11[i])\n",
    "end\n",
    "\n",
    "# Objective function: \n",
    "# 1) minimize fuel only until traffic light (z_8=1 if x[i]<=965)\n",
    "# 2) minimize change in velocities until traffic light \n",
    "# 3) idle time: sum all the cases when v[i]==0\n",
    "@objective(m, Min, sum(y1) + sum(y2) + \n",
    "                    sum(z_10[i] for i in 1:T)*idle_fuel)\n",
    "#@objective(m, Min, sum(obj_t)+ sum(w) + sum(z_10)*idle_fuel)\n",
    "\n",
    "solve(m)\n",
    "vopt = getvalue(v)\n",
    "xopt = getvalue(x)\n",
    "\n",
    "println(getobjectivevalue(m))\n",
    "println(sum(getvalue(a).^2))\n",
    "\n",
    "for i=1:T\n",
    "    if xopt[i] >= 298.914 - 0.1 && xopt[i] <= 298.914 + 0.1\n",
    "        println(t_g[1, i], \" T_GGG\")\n",
    "    end\n",
    "    if xopt[i] >= 345.605 - 0.1 && xopt[i] <= 345.605 + 0.1\n",
    "        println(t_g[2, i], \" T_GGG\")\n",
    "    end\n",
    "end\n",
    "\n",
    "println(\"z11:\", getvalue(z_11))\n",
    "println()\n",
    "println(t_g)\n",
    "println()\n",
    "println(xopt)\n",
    "println()\n",
    "println(\"z10=\", sum(getvalue(z_10)))\n",
    "println()\n",
    "println(vopt)\n",
    "println()\n",
    "println(getvalue(z_3))"
   ]
  },
  {
   "cell_type": "code",
   "execution_count": 17,
   "metadata": {
    "collapsed": false
   },
   "outputs": [
    {
     "data": {
      "image/png": "[encoded data removed]",
      "text/plain": [
       "PyPlot.Figure(PyObject <matplotlib.figure.Figure object at 0x326976b90>)"
      ]
     },
     "metadata": {},
     "output_type": "display_data"
    },
    {
     "name": "stdout",
     "output_type": "stream",
     "text": [
      "[58.0,98.0,175.0]\n"
     ]
    },
    {
     "data": {
      "text/plain": [
       "1-element Array{Any,1}:\n",
       " PyObject <matplotlib.lines.Line2D object at 0x325853f90>"
      ]
     },
     "execution_count": 17,
     "metadata": {},
     "output_type": "execute_result"
    }
   ],
   "source": [
    "using PyPlot\n",
    "t = [1:T;]\n",
    "grid(\"on\")\n",
    "ylim(0,max_v)\n",
    "xlim(0,T)\n",
    "plot(t, vopt)\n",
    "\n",
    "time_at_light = zeros(n_lights)\n",
    "for j = 1:n_lights\n",
    "    for i=1:T\n",
    "        if traf_pos[j]-max_v <= xopt[i] <= traf_pos[j] + max_v\n",
    "            time_at_light[j] = i\n",
    "            break\n",
    "        end\n",
    "    end\n",
    "end\n",
    "println(time_at_light)\n",
    "plot(time_at_light, zeros(n_lights), \"ro\")"
   ]
  },
  {
   "cell_type": "code",
   "execution_count": 18,
   "metadata": {
    "collapsed": false
   },
   "outputs": [
    {
     "data": {
      "image/png": "[encoded data removed]",
      "text/plain": [
       "PyPlot.Figure(PyObject <matplotlib.figure.Figure object at 0x3259e7b90>)"
      ]
     },
     "metadata": {},
     "output_type": "display_data"
    },
    {
     "data": {
      "text/plain": [
       "1-element Array{Any,1}:\n",
       " PyObject <matplotlib.lines.Line2D object at 0x325c7c910>"
      ]
     },
     "execution_count": 18,
     "metadata": {},
     "output_type": "execute_result"
    }
   ],
   "source": [
    "# Plot of Position vs Time (includes waiting time's position)\n",
    "ylim(0,destination+100)\n",
    "plot(t,xopt)\n",
    "#plot(t, traf_pos[2])"
   ]
  },
  {
   "cell_type": "code",
   "execution_count": 19,
   "metadata": {
    "collapsed": false
   },
   "outputs": [
    {
     "data": {
      "image/png": "[encoded data removed]",
      "text/plain": [
       "PyPlot.Figure(PyObject <matplotlib.figure.Figure object at 0x325cc2110>)"
      ]
     },
     "metadata": {},
     "output_type": "display_data"
    },
    {
     "data": {
      "text/plain": [
       "1-element Array{Any,1}:\n",
       " PyObject <matplotlib.lines.Line2D object at 0x32669cd90>"
      ]
     },
     "execution_count": 19,
     "metadata": {},
     "output_type": "execute_result"
    }
   ],
   "source": [
    "plot(xopt, vopt)\n",
    "grid(\"on\")\n",
    "ylim(0,max_v)\n",
    "xlim(0, destination+100)\n",
    "plot(traf_pos, zeros(n_lights), \"ro\")"
   ]
  },
  {
   "cell_type": "code",
   "execution_count": null,
   "metadata": {
    "collapsed": true
   },
   "outputs": [],
   "source": []
  },
  {
   "cell_type": "code",
   "execution_count": null,
   "metadata": {
    "collapsed": true
   },
   "outputs": [],
   "source": []
  },
  {
   "cell_type": "code",
   "execution_count": null,
   "metadata": {
    "collapsed": true
   },
   "outputs": [],
   "source": []
  }
 ],
 "metadata": {
  "kernelspec": {
   "display_name": "Julia 0.5.0",
   "language": "julia",
   "name": "julia-0.5"
  },
  "language_info": {
   "file_extension": ".jl",
   "mimetype": "application/julia",
   "name": "julia",
   "version": "0.5.0"
  }
 },
 "nbformat": 4,
 "nbformat_minor": 2
}

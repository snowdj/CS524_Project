{
 "cells": [
  {
   "cell_type": "markdown",
   "metadata": {},
   "source": [
    "### CS/ECE/ISyE 524 &mdash; Introduction to Optimization &mdash; Spring 2017 ###\n",
    "\n",
    "# Driving Recommendations to minimize fuel given traffic lights information \n",
    "\n",
    "#### Ainur Ainabekova (ainabekova@wisc.edu) and Subasree Venkatsubhramaniyen (venkatsubhra@wisc.edu)\n",
    "\n",
    "_____________________________________________________________________________________________________________________\n",
    "\n",
    "### Table of Contents:\n",
    "1. [Introduction](#1.-Introduction)\n",
    "1. [Mathematical Model](#2.-Mathematical-Model)\n",
    "1. [Solution](#3.-Solution)\n",
    "1. [Results and Discussion](#4.-Results-and-Discussion)\n",
    "1. [Optional Subsection](#5.-Subsections)\n",
    "1. [Conclusion](#6.-Conclusion)"
   ]
  },
  {
   "cell_type": "markdown",
   "metadata": {},
   "source": [
    "## 1. Introduction ##\n",
    "This project aims to solve the problem of optimizing fuel consumption of the vehicle given the number of traffic lights and their timings on the route. The model we built gives recommendations to the vehicle in terms of its velocity and velocity changes at each second in order to minimize fuel for the whole trip without violating rules related to the traffic lights on that route. "
   ]
  },
  {
   "cell_type": "markdown",
   "metadata": {},
   "source": [
    "## 2. Mathematical Model ##"
   ]
  },
  {
   "cell_type": "markdown",
   "metadata": {},
   "source": [
    "## 3. Solution ##"
   ]
  },
  {
   "cell_type": "markdown",
   "metadata": {},
   "source": [
    "## 4. Results and Discussion ##"
   ]
  },
  {
   "cell_type": "markdown",
   "metadata": {},
   "source": []
  },
  {
   "cell_type": "code",
   "execution_count": null,
   "metadata": {
    "collapsed": true
   },
   "outputs": [],
   "source": []
  }
 ],
 "metadata": {
  "kernelspec": {
   "display_name": "Julia 0.5.0",
   "language": "julia",
   "name": "julia-0.5"
  },
  "language_info": {
   "file_extension": ".jl",
   "mimetype": "application/julia",
   "name": "julia",
   "version": "0.5.0"
  }
 },
 "nbformat": 4,
 "nbformat_minor": 2
}
